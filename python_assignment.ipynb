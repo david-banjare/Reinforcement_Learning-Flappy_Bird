{
 "cells": [
  {
   "cell_type": "code",
   "execution_count": null,
   "id": "3cd62ee0-e7f1-480c-9688-7280eee5ad6e",
   "metadata": {},
   "outputs": [],
   "source": [
    "#******************************************************* Assignment 1: Temperature Converter*************************************************************"
   ]
  },
  {
   "cell_type": "code",
   "execution_count": 4,
   "id": "59579a7f-3aeb-488d-a12e-03402b2e551a",
   "metadata": {},
   "outputs": [],
   "source": [
    "def c_to_f(c):\n",
    "    return c*1.8+32"
   ]
  },
  {
   "cell_type": "code",
   "execution_count": 5,
   "id": "458a5afe-596b-41a0-ae48-7ce94ad32648",
   "metadata": {},
   "outputs": [],
   "source": [
    "def f_to_c(f):\n",
    "    return (f-32)/1.8"
   ]
  },
  {
   "cell_type": "code",
   "execution_count": 6,
   "id": "ffe7ec0f-98a0-4056-8794-12f8914b256a",
   "metadata": {},
   "outputs": [],
   "source": [
    "def menu():\n",
    "    print(\"********************Temperature Converter*********************\")\n",
    "    while(True):\n",
    "        choice=int(input(\"Enter your choice of conversion:\\n 1.Celsius-->Fahrenheit \\n 2.Fahrenheit--->Celsius \\n 3.Exit \\n\"))\n",
    "        if(choice==1):\n",
    "            c=float(input(\"enter temperature in Celsius:\"))\n",
    "            print(f\"{c}°C is equal to {c_to_f(c):.2f}°F\")\n",
    "        elif(choice==2):\n",
    "            f=float(input(\"enter temperature in Fahrenheit:\"))\n",
    "            print(f\"{f}°F is equal to {c_to_f(c):.2f}°C\")\n",
    "        elif(choice==3):\n",
    "            break\n",
    "        else:\n",
    "            print(\"invalid choice,enter correct choice...\")\n",
    "            \n"
   ]
  },
  {
   "cell_type": "code",
   "execution_count": 7,
   "id": "55aa2b31-b460-4be7-91a9-209e7a958476",
   "metadata": {},
   "outputs": [
    {
     "name": "stdout",
     "output_type": "stream",
     "text": [
      "********************Temperature Converter*********************\n"
     ]
    },
    {
     "name": "stdin",
     "output_type": "stream",
     "text": [
      "Enter your choice of conversion:\n",
      " 1.Celsius-->Fahrenheit \n",
      " 2.Fahrenheit--->Celsius \n",
      " 3.Exit 1\n",
      "enter temperature in Celsius: 100\n"
     ]
    },
    {
     "name": "stdout",
     "output_type": "stream",
     "text": [
      "212.0\n"
     ]
    },
    {
     "name": "stdin",
     "output_type": "stream",
     "text": [
      "Enter your choice of conversion:\n",
      " 1.Celsius-->Fahrenheit \n",
      " 2.Fahrenheit--->Celsius \n",
      " 3.Exit 2\n",
      "enter temperature in Fahrenheit: 212\n"
     ]
    },
    {
     "name": "stdout",
     "output_type": "stream",
     "text": [
      "100.0\n"
     ]
    },
    {
     "name": "stdin",
     "output_type": "stream",
     "text": [
      "Enter your choice of conversion:\n",
      " 1.Celsius-->Fahrenheit \n",
      " 2.Fahrenheit--->Celsius \n",
      " 3.Exit 3\n"
     ]
    }
   ],
   "source": [
    "menu()"
   ]
  },
  {
   "cell_type": "code",
   "execution_count": null,
   "id": "3bc52a5b-50f9-43ba-8c3f-81e0fbc8d8e1",
   "metadata": {},
   "outputs": [],
   "source": [
    "#**************************************************** Assignment 2: Basic Grocery Billing System*********************************************************"
   ]
  },
  {
   "cell_type": "code",
   "execution_count": 39,
   "id": "a7de6b77-2a5c-4f16-9506-0e4d9faa1708",
   "metadata": {},
   "outputs": [],
   "source": [
    "items = {\n",
    "    'apple': 30,\n",
    "    'banana': 10,\n",
    "    'milk': 50,\n",
    "    'bread': 40\n",
    "}"
   ]
  },
  {
   "cell_type": "code",
   "execution_count": 50,
   "id": "3bb3f21c-861b-4c14-a03d-8ea892c7bf89",
   "metadata": {},
   "outputs": [],
   "source": [
    "def calculate_bill():\n",
    "    grocery={}\n",
    "    while(True):\n",
    "        name=input(\"Enter the name of the item:\").lower()\n",
    "        if(name not in items.keys()):\n",
    "            print(\"Item not in stock...\")\n",
    "        else:\n",
    "            quantity=int(input(f\"Enter the quantity of {name}:\"))\n",
    "            grocery[name]=quantity\n",
    "        choice=input(\"Enter Y or y to add on more items and N or n to Exit:\")\n",
    "        if(choice in ('Y','y')):\n",
    "            continue\n",
    "        else:\n",
    "            break\n",
    "    for i, j in grocery.items():\n",
    "        print(f\"item:{i}--->quantity:{j}\")\n",
    "        \n",
    "    total_bill=0\n",
    "    for i in grocery.keys():\n",
    "        if(i in items.keys()):\n",
    "            if(i=='apple'):\n",
    "                total_bill+=items[i]*grocery[i]\n",
    "            elif(i=='banana'):\n",
    "                total_bill+=items[i]*grocery[i]\n",
    "            elif(i=='milk'):\n",
    "                total_bill+=items[i]*grocery[i]\n",
    "            elif(i=='bread'):\n",
    "                total_bill+=items[i]*grocery[i]\n",
    "    print(\"your total bill is:\" ,total_bill ,\"ruppes\")\n",
    "    if(total_bill>500):\n",
    "        print(\"congrats! You get 10% discount and your new bill is:\" ,total_bill-(total_bill/10), \"ruppes\")\n",
    "    print(\"Thank you for shopping,come again...\")   \n",
    "        \n",
    "    \n",
    "    \n",
    "            \n",
    "    # total_bill=items['apple']*grocery['apple']+items['banana']*grocery['banana']+items['milk']*grocery['milk']+items['bread']*grocery['bread']\n",
    "    # print(total_bill)\n",
    "    \n",
    "    "
   ]
  },
  {
   "cell_type": "code",
   "execution_count": 51,
   "id": "5f4a6579-542f-487f-bb77-8d7bd28275f8",
   "metadata": {},
   "outputs": [
    {
     "name": "stdin",
     "output_type": "stream",
     "text": [
      "Enter the name of the item: apple\n",
      "Enter the quantity of apple: 12\n",
      "Enter Y or y to add on more items and N or n to Exit: y\n",
      "Enter the name of the item: banana\n",
      "Enter the quantity of banana: 34\n",
      "Enter Y or y to add on more items and N or n to Exit: y\n",
      "Enter the name of the item: milk\n",
      "Enter the quantity of milk: 2\n",
      "Enter Y or y to add on more items and N or n to Exit: y\n",
      "Enter the name of the item: potato\n"
     ]
    },
    {
     "name": "stdout",
     "output_type": "stream",
     "text": [
      "Item not in stock...\n"
     ]
    },
    {
     "name": "stdin",
     "output_type": "stream",
     "text": [
      "Enter Y or y to add on more items and N or n to Exit: y\n",
      "Enter the name of the item: bread\n",
      "Enter the quantity of bread: 2\n",
      "Enter Y or y to add on more items and N or n to Exit: n\n"
     ]
    },
    {
     "name": "stdout",
     "output_type": "stream",
     "text": [
      "item: apple   quantity:12\n",
      "item: banana   quantity:34\n",
      "item: milk   quantity:2\n",
      "item: bread   quantity:2\n",
      "your total bill is: 880 ruppes\n",
      "congrats! You get 10% discount and your new bill is: 792.0 ruppes\n",
      "Thank you for shopping,come again...\n"
     ]
    }
   ],
   "source": [
    "calculate_bill()"
   ]
  },
  {
   "cell_type": "code",
   "execution_count": null,
   "id": "62c796d8-ed8d-4206-9b22-2c2f4babe394",
   "metadata": {},
   "outputs": [],
   "source": [
    "#********************************************************** Assignment 3: Student Report Generator*******************************************************"
   ]
  },
  {
   "cell_type": "code",
   "execution_count": 4,
   "id": "496448f7-080f-4c7b-b5fe-66fa33967522",
   "metadata": {},
   "outputs": [],
   "source": [
    "def calculate_grade(avg):\n",
    "    if(avg>=90):\n",
    "        return 'A'\n",
    "    elif(avg>=75 and avg<=89):\n",
    "        return 'B'\n",
    "    elif(avg<=74 and avg>=50):\n",
    "        return 'C'\n",
    "    else:\n",
    "        return 'F'"
   ]
  },
  {
   "cell_type": "code",
   "execution_count": 7,
   "id": "4dc57bbb-fe73-4699-bdde-993bd52776f0",
   "metadata": {},
   "outputs": [],
   "source": [
    "def student_report():\n",
    "    name=input(\"Enter your name:\")\n",
    "    grades={};\n",
    "    for i in range(3):\n",
    "        mark=float(input(f\"Enter the marks of {i+1} subject:\"))\n",
    "        grades[i+1]=mark\n",
    "    for i , j in grades.items():\n",
    "        print(f\"{i}---> mark: {j}\")\n",
    "    sum=0\n",
    "    for i in grades.values():\n",
    "        sum+=i\n",
    "    avg=sum/3\n",
    "    print(f\"Average marks of {name} is: {avg}\")\n",
    "    print(f\"Grades of {name} is: {calculate_grade(avg)}\")"
   ]
  },
  {
   "cell_type": "code",
   "execution_count": 8,
   "id": "2ee86241-e6f2-45b2-a132-e8e00ed3e2e0",
   "metadata": {},
   "outputs": [
    {
     "name": "stdin",
     "output_type": "stream",
     "text": [
      "Enter your name: david\n",
      "Enter the marks of 1 subject: 12\n",
      "Enter the marks of 2 subject: 13\n",
      "Enter the marks of 3 subject: 22\n"
     ]
    },
    {
     "name": "stdout",
     "output_type": "stream",
     "text": [
      "1---> mark: 12.0\n",
      "2---> mark: 13.0\n",
      "3---> mark: 22.0\n",
      "Average marks of david is: 15.666666666666666\n",
      "Grades of david is: F\n"
     ]
    }
   ],
   "source": [
    "student_report()"
   ]
  },
  {
   "cell_type": "code",
   "execution_count": null,
   "id": "190f038f-be10-48bb-b887-924fbc1890a3",
   "metadata": {},
   "outputs": [],
   "source": [
    "#***********************************************************Assignment 4: ATM Simulator******************************************************************"
   ]
  },
  {
   "cell_type": "code",
   "execution_count": 38,
   "id": "b88b7522-123d-4bd6-ac8d-14856e377685",
   "metadata": {},
   "outputs": [],
   "source": [
    "def login():\n",
    "    for i in range(4):\n",
    "        pin=int(input(\"Enter your four digit pin number:\"))\n",
    "        if(pin==1234):\n",
    "            print(\"Processing...\")\n",
    "            break\n",
    "        else:\n",
    "            print(\"You have enter wrong pin number,try again...\")\n",
    "    return i"
   ]
  },
  {
   "cell_type": "code",
   "execution_count": 39,
   "id": "ccbcd68c-a6a3-4e5b-8c43-294c14e5fed7",
   "metadata": {},
   "outputs": [],
   "source": [
    "def atm_menu():\n",
    "    balance = 1000\n",
    "    transactions = []\n",
    "    while(True):\n",
    "        option=int(input(\"Enter your option: \\n 1.Check balance \\n 2.Deposit \\n 3.Withdraw \\n 4.Exit \\n\"))\n",
    "        if(option!=4):\n",
    "            n=login()\n",
    "        if(option in (1,2,3) and n>=3):\n",
    "            print(\"You have reached maximum attempts (3), try later....\")\n",
    "            print(\"Thank you...\")\n",
    "            break;\n",
    "        if(option==1):\n",
    "            print(f\"You balance is:₹{balance}\")\n",
    "        elif(option==2):\n",
    "            amount=int(input(\"Enter the amount you want to deposit:\"))\n",
    "            if(amount>0):\n",
    "                balance+=amount\n",
    "                transactions.append(f\"Deposited ₹{amount}\")\n",
    "            else:\n",
    "                print(\"Enter correct amount i.e positive...\")\n",
    "        elif(option==3):\n",
    "            amount=int(input(\"Enter the amount you want to withdraw:\"))\n",
    "            if(amount>balance and amount>0):\n",
    "                print(\"Insufficient balance...\")\n",
    "            elif(amount<=0):\n",
    "                print(\"Enter correct amount i.e positive...\")\n",
    "            else:\n",
    "                balance-=amount\n",
    "                transactions.append(f\"Withdrew ₹{amount}\")\n",
    "        elif(option==4):\n",
    "            print(transactions)\n",
    "            print(\"Thank you...\")\n",
    "            break\n",
    "        else:\n",
    "            print(\"Invalid option, try again...\")"
   ]
  },
  {
   "cell_type": "code",
   "execution_count": 40,
   "id": "87d2ae05-71aa-4ca0-8e2d-ef1d3be82e07",
   "metadata": {},
   "outputs": [
    {
     "name": "stdin",
     "output_type": "stream",
     "text": [
      "Enter your option: \n",
      " 1.Check balance \n",
      " 2.Deposit \n",
      " 3.Withdraw \n",
      " 4.Exit \n",
      " 1\n",
      "Enter your four digit pin number: 1211\n"
     ]
    },
    {
     "name": "stdout",
     "output_type": "stream",
     "text": [
      "You have enter wrong pin number,try again...\n"
     ]
    },
    {
     "name": "stdin",
     "output_type": "stream",
     "text": [
      "Enter your four digit pin number: 121\n"
     ]
    },
    {
     "name": "stdout",
     "output_type": "stream",
     "text": [
      "You have enter wrong pin number,try again...\n"
     ]
    },
    {
     "name": "stdin",
     "output_type": "stream",
     "text": [
      "Enter your four digit pin number: 1234\n"
     ]
    },
    {
     "name": "stdout",
     "output_type": "stream",
     "text": [
      "Processing...\n",
      "You balance is:₹1000\n"
     ]
    },
    {
     "name": "stdin",
     "output_type": "stream",
     "text": [
      "Enter your option: \n",
      " 1.Check balance \n",
      " 2.Deposit \n",
      " 3.Withdraw \n",
      " 4.Exit \n",
      " 2\n",
      "Enter your four digit pin number: 1234\n"
     ]
    },
    {
     "name": "stdout",
     "output_type": "stream",
     "text": [
      "Processing...\n"
     ]
    },
    {
     "name": "stdin",
     "output_type": "stream",
     "text": [
      "Enter the amount you want to deposit: 1000000000000000\n",
      "Enter your option: \n",
      " 1.Check balance \n",
      " 2.Deposit \n",
      " 3.Withdraw \n",
      " 4.Exit \n",
      " 1\n",
      "Enter your four digit pin number: 1234\n"
     ]
    },
    {
     "name": "stdout",
     "output_type": "stream",
     "text": [
      "Processing...\n",
      "You balance is:₹1000000000001000\n"
     ]
    },
    {
     "name": "stdin",
     "output_type": "stream",
     "text": [
      "Enter your option: \n",
      " 1.Check balance \n",
      " 2.Deposit \n",
      " 3.Withdraw \n",
      " 4.Exit \n",
      " 3\n",
      "Enter your four digit pin number: 1234\n"
     ]
    },
    {
     "name": "stdout",
     "output_type": "stream",
     "text": [
      "Processing...\n"
     ]
    },
    {
     "name": "stdin",
     "output_type": "stream",
     "text": [
      "Enter the amount you want to withdraw: 1000\n",
      "Enter your option: \n",
      " 1.Check balance \n",
      " 2.Deposit \n",
      " 3.Withdraw \n",
      " 4.Exit \n",
      " 4\n"
     ]
    },
    {
     "name": "stdout",
     "output_type": "stream",
     "text": [
      "['Deposited ₹1000000000000000', 'Withdrew ₹1000']\n",
      "Thank you...\n"
     ]
    }
   ],
   "source": [
    "atm_menu()"
   ]
  },
  {
   "cell_type": "code",
   "execution_count": null,
   "id": "e875b8d5-0d83-47b8-9105-070197a76ed1",
   "metadata": {},
   "outputs": [],
   "source": []
  }
 ],
 "metadata": {
  "kernelspec": {
   "display_name": "Python [conda env:base] *",
   "language": "python",
   "name": "conda-base-py"
  },
  "language_info": {
   "codemirror_mode": {
    "name": "ipython",
    "version": 3
   },
   "file_extension": ".py",
   "mimetype": "text/x-python",
   "name": "python",
   "nbconvert_exporter": "python",
   "pygments_lexer": "ipython3",
   "version": "3.12.7"
  }
 },
 "nbformat": 4,
 "nbformat_minor": 5
}
