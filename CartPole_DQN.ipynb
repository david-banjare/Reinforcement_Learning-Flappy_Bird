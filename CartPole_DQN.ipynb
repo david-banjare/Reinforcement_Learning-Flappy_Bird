{
  "cells": [
    {
      "cell_type": "markdown",
      "metadata": {
        "id": "IER1Cr0XUdQD"
      },
      "source": [
        "# CartPole using Deep Q-Network (DQN)\n",
        "\n",
        "This notebook implements a Deep Q-Network (DQN) to solve the CartPole-v1 environment using PyTorch and OpenAI Gym."
      ]
    },
    {
      "cell_type": "code",
      "source": [
        "!pip install numpy==1.23.5 --quiet\n",
        "import os\n",
        "os.kill(os.getpid(), 9)  # Restart the runtime after downgrade\n"
      ],
      "metadata": {
        "colab": {
          "base_uri": "https://localhost:8080/"
        },
        "id": "nhX93s4iWKoL",
        "outputId": "7101f86d-4ae8-47ce-ed4e-1dbffadce367"
      },
      "execution_count": null,
      "outputs": [
        {
          "output_type": "stream",
          "name": "stdout",
          "text": [
            "\u001b[2K   \u001b[90m━━━━━━━━━━━━━━━━━━━━━━━━━━━━━━━━━━━━━━━━\u001b[0m \u001b[32m17.1/17.1 MB\u001b[0m \u001b[31m50.9 MB/s\u001b[0m eta \u001b[36m0:00:00\u001b[0m\n",
            "\u001b[?25h\u001b[31mERROR: pip's dependency resolver does not currently take into account all the packages that are installed. This behaviour is the source of the following dependency conflicts.\n",
            "pymc 5.23.0 requires numpy>=1.25.0, but you have numpy 1.23.5 which is incompatible.\n",
            "tensorflow 2.18.0 requires numpy<2.1.0,>=1.26.0, but you have numpy 1.23.5 which is incompatible.\n",
            "albumentations 2.0.8 requires numpy>=1.24.4, but you have numpy 1.23.5 which is incompatible.\n",
            "jaxlib 0.5.1 requires numpy>=1.25, but you have numpy 1.23.5 which is incompatible.\n",
            "db-dtypes 1.4.3 requires numpy>=1.24.0, but you have numpy 1.23.5 which is incompatible.\n",
            "xarray 2025.3.1 requires numpy>=1.24, but you have numpy 1.23.5 which is incompatible.\n",
            "xarray-einstats 0.9.0 requires numpy>=1.25, but you have numpy 1.23.5 which is incompatible.\n",
            "thinc 8.3.6 requires numpy<3.0.0,>=2.0.0, but you have numpy 1.23.5 which is incompatible.\n",
            "chex 0.1.89 requires numpy>=1.24.1, but you have numpy 1.23.5 which is incompatible.\n",
            "scikit-image 0.25.2 requires numpy>=1.24, but you have numpy 1.23.5 which is incompatible.\n",
            "treescope 0.1.9 requires numpy>=1.25.2, but you have numpy 1.23.5 which is incompatible.\n",
            "imbalanced-learn 0.13.0 requires numpy<3,>=1.24.3, but you have numpy 1.23.5 which is incompatible.\n",
            "bigframes 2.5.0 requires numpy>=1.24.0, but you have numpy 1.23.5 which is incompatible.\n",
            "blosc2 3.3.4 requires numpy>=1.26, but you have numpy 1.23.5 which is incompatible.\n",
            "albucore 0.0.24 requires numpy>=1.24.4, but you have numpy 1.23.5 which is incompatible.\n",
            "jax 0.5.2 requires numpy>=1.25, but you have numpy 1.23.5 which is incompatible.\u001b[0m\u001b[31m\n",
            "\u001b[0m"
          ]
        }
      ]
    },
    {
      "cell_type": "code",
      "source": [
        "!pip install numpy==1.26.4\n"
      ],
      "metadata": {
        "colab": {
          "base_uri": "https://localhost:8080/",
          "height": 339
        },
        "id": "PBqy0kCKbp4X",
        "outputId": "41e9cecf-e2b4-4913-cb26-e85b5a9200da"
      },
      "execution_count": null,
      "outputs": [
        {
          "output_type": "stream",
          "name": "stdout",
          "text": [
            "Collecting numpy==1.26.4\n",
            "  Downloading numpy-1.26.4-cp311-cp311-manylinux_2_17_x86_64.manylinux2014_x86_64.whl.metadata (61 kB)\n",
            "\u001b[?25l     \u001b[90m━━━━━━━━━━━━━━━━━━━━━━━━━━━━━━━━━━━━━━━━\u001b[0m \u001b[32m0.0/61.0 kB\u001b[0m \u001b[31m?\u001b[0m eta \u001b[36m-:--:--\u001b[0m\r\u001b[2K     \u001b[90m━━━━━━━━━━━━━━━━━━━━━━━━━━━━━━━━━━━━━━━━\u001b[0m \u001b[32m61.0/61.0 kB\u001b[0m \u001b[31m2.9 MB/s\u001b[0m eta \u001b[36m0:00:00\u001b[0m\n",
            "\u001b[?25hDownloading numpy-1.26.4-cp311-cp311-manylinux_2_17_x86_64.manylinux2014_x86_64.whl (18.3 MB)\n",
            "\u001b[2K   \u001b[90m━━━━━━━━━━━━━━━━━━━━━━━━━━━━━━━━━━━━━━━━\u001b[0m \u001b[32m18.3/18.3 MB\u001b[0m \u001b[31m40.4 MB/s\u001b[0m eta \u001b[36m0:00:00\u001b[0m\n",
            "\u001b[?25hInstalling collected packages: numpy\n",
            "  Attempting uninstall: numpy\n",
            "    Found existing installation: numpy 1.23.5\n",
            "    Uninstalling numpy-1.23.5:\n",
            "      Successfully uninstalled numpy-1.23.5\n",
            "\u001b[31mERROR: pip's dependency resolver does not currently take into account all the packages that are installed. This behaviour is the source of the following dependency conflicts.\n",
            "thinc 8.3.6 requires numpy<3.0.0,>=2.0.0, but you have numpy 1.26.4 which is incompatible.\u001b[0m\u001b[31m\n",
            "\u001b[0mSuccessfully installed numpy-1.26.4\n"
          ]
        },
        {
          "output_type": "display_data",
          "data": {
            "application/vnd.colab-display-data+json": {
              "pip_warning": {
                "packages": [
                  "numpy"
                ]
              },
              "id": "880af95dec0c485682202be811834c0a"
            }
          },
          "metadata": {}
        }
      ]
    },
    {
      "cell_type": "code",
      "execution_count": 1,
      "metadata": {
        "id": "4jq_-i6HUdQF"
      },
      "outputs": [],
      "source": [
        "import gym\n",
        "import torch\n",
        "import torch.nn as nn\n",
        "import torch.optim as optim\n",
        "import random\n",
        "import numpy as np\n",
        "from collections import deque"
      ]
    },
    {
      "cell_type": "code",
      "source": [
        "device = torch.device(\"cuda\" if torch.cuda.is_available() else \"cpu\")"
      ],
      "metadata": {
        "id": "w6V9p-Vsb5dE"
      },
      "execution_count": 2,
      "outputs": []
    },
    {
      "cell_type": "code",
      "execution_count": 3,
      "metadata": {
        "id": "pJ9JUVMrUdQG"
      },
      "outputs": [],
      "source": [
        "class QNetwork(nn.Module):\n",
        "    def __init__(self, state_dim, action_dim):\n",
        "        super(QNetwork, self).__init__()\n",
        "        self.fc = nn.Sequential(\n",
        "            nn.Linear(state_dim, 128),\n",
        "            nn.ReLU(),\n",
        "            nn.Linear(128, 128),\n",
        "            nn.ReLU(),\n",
        "            nn.Linear(128, action_dim)\n",
        "        )\n",
        "\n",
        "    def forward(self, x):\n",
        "        return self.fc(x)\n"
      ]
    },
    {
      "cell_type": "code",
      "execution_count": 4,
      "metadata": {
        "id": "PmwTY_3SUdQG"
      },
      "outputs": [],
      "source": [
        "class DQNAgent:\n",
        "    def __init__(self, env):\n",
        "        self.env = env\n",
        "        self.state_dim = env.observation_space.shape[0]\n",
        "        self.action_dim = env.action_space.n\n",
        "\n",
        "        self.q_network = QNetwork(self.state_dim, self.action_dim)\n",
        "        self.target_network = QNetwork(self.state_dim, self.action_dim)\n",
        "        self.target_network.load_state_dict(self.q_network.state_dict())\n",
        "\n",
        "        self.optimizer = optim.Adam(self.q_network.parameters(), lr=1e-3)\n",
        "        self.criterion = nn.MSELoss()\n",
        "        self.buffer = ReplayBuffer(10000)\n",
        "\n",
        "        self.batch_size = 64\n",
        "        self.gamma = 0.99\n",
        "        self.epsilon = 1.0\n",
        "        self.epsilon_decay = 0.995\n",
        "        self.epsilon_min = 0.01\n",
        "        self.tau = 0.01\n",
        "\n",
        "    def act(self, state):\n",
        "        if random.random() < self.epsilon:\n",
        "            return self.env.action_space.sample()\n",
        "        state = torch.FloatTensor(state).unsqueeze(0)\n",
        "        with torch.no_grad():\n",
        "            return self.q_network(state).argmax().item()\n",
        "\n",
        "    def update(self):\n",
        "      if len(self.buffer) < self.batch_size:\n",
        "        return\n",
        "\n",
        "      states, actions, rewards, next_states, dones = self.buffer.sample(self.batch_size)\n",
        "\n",
        "    # Forward pass on current states\n",
        "      q_pred = self.q_network(states)  # shape: [batch_size, action_dim]\n",
        "\n",
        "    # Make sure actions tensor is of shape [batch_size, 1]\n",
        "      actions = actions.view(-1, 1)\n",
        "\n",
        "    # Gather Q-values for the actions taken\n",
        "      q_values = q_pred.gather(1, actions).squeeze(1)  # shape: [batch_size]\n",
        "\n",
        "    # Forward pass on next states using target network\n",
        "      with torch.no_grad():\n",
        "          q_next = self.target_network(next_states).max(1)[0]\n",
        "          q_target = rewards + self.gamma * q_next * (1 - dones)\n",
        "\n",
        "    # Loss and backprop\n",
        "      loss = self.criterion(q_values, q_target)\n",
        "      self.optimizer.zero_grad()\n",
        "      loss.backward()\n",
        "      self.optimizer.step()\n",
        "\n",
        "    # Update target network\n",
        "      self.soft_update(self.q_network, self.target_network, self.tau)\n",
        "\n",
        "\n",
        "    def soft_update(self, local_model, target_model, tau):\n",
        "        for target_param, local_param in zip(target_model.parameters(), local_model.parameters()):\n",
        "            target_param.data.copy_(tau * local_param.data + (1.0 - tau) * target_param.data)\n",
        "\n",
        "    def train(self, episodes):\n",
        "        rewards = []\n",
        "        for ep in range(episodes):\n",
        "            state = self.env.reset()\n",
        "            if isinstance(state, tuple):  # For Gym >= 0.26\n",
        "                state = state[0]\n",
        "            total_reward = 0\n",
        "            done = False\n",
        "\n",
        "            while not done:\n",
        "                action = self.act(state)\n",
        "                result = self.env.step(action)\n",
        "\n",
        "                if len(result) == 5:  # New Gym API\n",
        "                    next_state, reward, terminated, truncated, _ = result\n",
        "                    done = terminated or truncated\n",
        "                else:\n",
        "                    next_state, reward, done, _ = result\n",
        "\n",
        "                self.buffer.push(state, action, reward, next_state, float(done))\n",
        "                self.update()\n",
        "                state = next_state\n",
        "                total_reward += reward\n",
        "\n",
        "            self.epsilon = max(self.epsilon * self.epsilon_decay, self.epsilon_min)\n",
        "            rewards.append(total_reward)\n",
        "\n",
        "            if (ep + 1) % 10 == 0:\n",
        "                print(f\"Episode {ep+1}, Reward: {total_reward}, Epsilon: {self.epsilon:.2f}\")\n",
        "\n",
        "        return rewards\n"
      ]
    },
    {
      "cell_type": "code",
      "source": [
        "import random\n",
        "from collections import deque\n",
        "import numpy as np\n",
        "import torch\n",
        "\n",
        "class ReplayBuffer:\n",
        "    def __init__(self, capacity):\n",
        "        self.buffer = deque(maxlen=capacity)\n",
        "\n",
        "    def push(self, state, action, reward, next_state, done):\n",
        "        self.buffer.append((state, action, reward, next_state, done))\n",
        "\n",
        "    def sample(self, batch_size):\n",
        "        batch = random.sample(self.buffer, batch_size)\n",
        "        states, actions, rewards, next_states, dones = zip(*batch)\n",
        "\n",
        "        states = torch.FloatTensor(np.array(states)).to(device)\n",
        "        actions = torch.LongTensor(actions).to(device)\n",
        "        rewards = torch.FloatTensor(rewards).to(device)\n",
        "        next_states = torch.FloatTensor(np.array(next_states)).to(device)\n",
        "        dones = torch.FloatTensor(dones).to(device)\n",
        "\n",
        "        return states, actions, rewards, next_states, dones\n",
        "\n",
        "    def __len__(self):\n",
        "        return len(self.buffer)\n"
      ],
      "metadata": {
        "id": "Rv2H2gQnT9mj"
      },
      "execution_count": 5,
      "outputs": []
    },
    {
      "cell_type": "code",
      "execution_count": 6,
      "metadata": {
        "id": "8qPbLHrSUdQH"
      },
      "outputs": [],
      "source": [
        "env = gym.make(\"CartPole-v1\", render_mode=\"human\", new_step_api=True)\n",
        "agent = DQNAgent(env)"
      ]
    },
    {
      "cell_type": "code",
      "source": [
        "import numpy as np\n",
        "if not hasattr(np, 'bool8'):\n",
        "    np.bool8 = np.bool_\n"
      ],
      "metadata": {
        "id": "TwrBs9TaUUu4"
      },
      "execution_count": 7,
      "outputs": []
    },
    {
      "cell_type": "code",
      "source": [
        "training_rewards = agent.train(episodes=100)\n",
        "print(\"Average reward over last 10 episodes:\", np.mean(training_rewards[-10:]))"
      ],
      "metadata": {
        "colab": {
          "base_uri": "https://localhost:8080/"
        },
        "id": "KTIHJb9hVl-6",
        "outputId": "ff27c0bb-bdbb-4e90-9a5c-2cc177cdd740"
      },
      "execution_count": 8,
      "outputs": [
        {
          "output_type": "stream",
          "name": "stdout",
          "text": [
            "Episode 10, Reward: 10.0, Epsilon: 0.95\n",
            "Episode 20, Reward: 17.0, Epsilon: 0.90\n",
            "Episode 30, Reward: 44.0, Epsilon: 0.86\n",
            "Episode 40, Reward: 27.0, Epsilon: 0.82\n",
            "Episode 50, Reward: 33.0, Epsilon: 0.78\n",
            "Episode 60, Reward: 39.0, Epsilon: 0.74\n",
            "Episode 70, Reward: 108.0, Epsilon: 0.70\n",
            "Episode 80, Reward: 138.0, Epsilon: 0.67\n",
            "Episode 90, Reward: 25.0, Epsilon: 0.64\n",
            "Episode 100, Reward: 15.0, Epsilon: 0.61\n",
            "Average reward over last 10 episodes: 63.1\n"
          ]
        }
      ]
    },
    {
      "cell_type": "code",
      "source": [
        "training_rewards = agent.train(episodes=250)\n"
      ],
      "metadata": {
        "id": "eKzxe_hmcanF",
        "colab": {
          "base_uri": "https://localhost:8080/"
        },
        "outputId": "c235ffa7-5987-4930-b282-9d3b84277d41"
      },
      "execution_count": 9,
      "outputs": [
        {
          "output_type": "stream",
          "name": "stdout",
          "text": [
            "Episode 10, Reward: 44.0, Epsilon: 0.58\n",
            "Episode 20, Reward: 46.0, Epsilon: 0.55\n",
            "Episode 30, Reward: 28.0, Epsilon: 0.52\n",
            "Episode 40, Reward: 124.0, Epsilon: 0.50\n",
            "Episode 50, Reward: 129.0, Epsilon: 0.47\n",
            "Episode 60, Reward: 129.0, Epsilon: 0.45\n",
            "Episode 70, Reward: 156.0, Epsilon: 0.43\n",
            "Episode 80, Reward: 63.0, Epsilon: 0.41\n",
            "Episode 90, Reward: 106.0, Epsilon: 0.39\n",
            "Episode 100, Reward: 15.0, Epsilon: 0.37\n",
            "Episode 110, Reward: 267.0, Epsilon: 0.35\n",
            "Episode 120, Reward: 211.0, Epsilon: 0.33\n",
            "Episode 130, Reward: 112.0, Epsilon: 0.32\n",
            "Episode 140, Reward: 113.0, Epsilon: 0.30\n",
            "Episode 150, Reward: 101.0, Epsilon: 0.29\n",
            "Episode 160, Reward: 20.0, Epsilon: 0.27\n",
            "Episode 170, Reward: 115.0, Epsilon: 0.26\n",
            "Episode 180, Reward: 100.0, Epsilon: 0.25\n",
            "Episode 190, Reward: 18.0, Epsilon: 0.23\n",
            "Episode 200, Reward: 117.0, Epsilon: 0.22\n",
            "Episode 210, Reward: 247.0, Epsilon: 0.21\n",
            "Episode 220, Reward: 154.0, Epsilon: 0.20\n",
            "Episode 230, Reward: 500.0, Epsilon: 0.19\n",
            "Episode 240, Reward: 391.0, Epsilon: 0.18\n",
            "Episode 250, Reward: 500.0, Epsilon: 0.17\n"
          ]
        }
      ]
    },
    {
      "cell_type": "code",
      "source": [
        "import matplotlib.pyplot as plt\n",
        "\n",
        "plt.plot(training_rewards)\n",
        "plt.xlabel(\"Episode\")\n",
        "plt.ylabel(\"Reward\")\n",
        "plt.title(\"Training Rewards over Time\")\n",
        "plt.grid()\n",
        "plt.show()\n"
      ],
      "metadata": {
        "id": "n3YGBq0Gf6JD",
        "colab": {
          "base_uri": "https://localhost:8080/",
          "height": 472
        },
        "outputId": "b0bdf02a-2d59-4ea7-a088-26a0268dfef1"
      },
      "execution_count": 10,
      "outputs": [
        {
          "output_type": "display_data",
          "data": {
            "text/plain": [
              "<Figure size 640x480 with 1 Axes>"
            ],
            "image/png": "[encoded data removed]"
          },
          "metadata": {}
        }
      ]
    },
    {
      "cell_type": "code",
      "source": [
        "torch.save(agent.q_network.state_dict(), \"/content/dqn_cartpole.pth\")\n",
        "\n"
      ],
      "metadata": {
        "id": "mniRbOZHhQMt"
      },
      "execution_count": 18,
      "outputs": []
    },
    {
      "cell_type": "code",
      "source": [
        "agent.q_network.load_state_dict(torch.load(\"dqn_cartpole.pth\"))\n",
        "agent.q_network.eval()"
      ],
      "metadata": {
        "colab": {
          "base_uri": "https://localhost:8080/"
        },
        "id": "qfaVwZMvhTUC",
        "outputId": "82bfda17-4f44-4d83-ef33-f73f4a3ea0e8"
      },
      "execution_count": 19,
      "outputs": [
        {
          "output_type": "execute_result",
          "data": {
            "text/plain": [
              "QNetwork(\n",
              "  (fc): Sequential(\n",
              "    (0): Linear(in_features=4, out_features=128, bias=True)\n",
              "    (1): ReLU()\n",
              "    (2): Linear(in_features=128, out_features=128, bias=True)\n",
              "    (3): ReLU()\n",
              "    (4): Linear(in_features=128, out_features=2, bias=True)\n",
              "  )\n",
              ")"
            ]
          },
          "metadata": {},
          "execution_count": 19
        }
      ]
    },
    {
      "cell_type": "code",
      "source": [
        "import os\n",
        "print(os.getcwd())"
      ],
      "metadata": {
        "id": "x8iaD3E3hV7h",
        "colab": {
          "base_uri": "https://localhost:8080/"
        },
        "outputId": "ba51ab10-3601-4a8b-ad33-485aad899d65"
      },
      "execution_count": 20,
      "outputs": [
        {
          "output_type": "stream",
          "name": "stdout",
          "text": [
            "/content\n"
          ]
        }
      ]
    },
    {
      "cell_type": "code",
      "source": [
        "import os\n",
        "assert os.path.exists(\"/content/dqn_cartpole.pth\"), \"Model file not found!\"\n"
      ],
      "metadata": {
        "id": "oaAc1yQ4TQtE"
      },
      "execution_count": 21,
      "outputs": []
    },
    {
      "cell_type": "code",
      "source": [],
      "metadata": {
        "id": "egtlbftJTgZr"
      },
      "execution_count": null,
      "outputs": []
    },
    {
      "cell_type": "code",
      "source": [],
      "metadata": {
        "id": "O_guAUmGnZt6"
      },
      "execution_count": null,
      "outputs": []
    },
    {
      "cell_type": "code",
      "source": [],
      "metadata": {
        "id": "aeIs8MBNncY8"
      },
      "execution_count": null,
      "outputs": []
    },
    {
      "cell_type": "code",
      "source": [
        "import gym\n",
        "import torch\n",
        "import numpy as np\n",
        "from torch import nn\n",
        "import time\n",
        "\n",
        "# Use GPU if available\n",
        "device = torch.device(\"cuda\" if torch.cuda.is_available() else \"cpu\")\n",
        "\n",
        "# Define the same QNetwork you used for training\n",
        "class QNetwork(nn.Module):\n",
        "    def __init__(self, input_dim, output_dim):\n",
        "        super(QNetwork, self).__init__()\n",
        "        self.fc = nn.Sequential(\n",
        "            nn.Linear(input_dim, 128),\n",
        "            nn.ReLU(),\n",
        "            nn.Linear(128, 128),\n",
        "            nn.ReLU(),\n",
        "            nn.Linear(128, output_dim)\n",
        "        )\n",
        "\n",
        "    def forward(self, x):\n",
        "        return self.fc(x)\n",
        "\n",
        "# Load the environment with rendering enabled\n",
        "env = gym.make(\"CartPole-v1\", render_mode=\"human\")\n",
        "state_dim = env.observation_space.shape[0]\n",
        "action_dim = env.action_space.n\n",
        "\n",
        "# Load the trained model\n",
        "q_network = QNetwork(state_dim, action_dim).to(device)\n",
        "q_network.load_state_dict(torch.load(\"/content/dqn_cartpole.pth\", map_location=device))\n",
        "q_network.eval()\n",
        "\n",
        "# Play a few episodes\n",
        "num_episodes = 5\n",
        "\n",
        "for episode in range(1, num_episodes + 1):\n",
        "    # Handle different versions of Gym's reset API\n",
        "    reset_result = env.reset()\n",
        "    state = reset_result[0] if isinstance(reset_result, tuple) else reset_result\n",
        "\n",
        "    done = False\n",
        "    total_reward = 0\n",
        "\n",
        "    while not done:\n",
        "        state_tensor = torch.FloatTensor(state).unsqueeze(0).to(device)\n",
        "\n",
        "        with torch.no_grad():\n",
        "            q_values = q_network(state_tensor)\n",
        "            action = torch.argmax(q_values, dim=1).item()\n",
        "\n",
        "        # Handle both step API versions\n",
        "        step_result = env.step(action)\n",
        "        if len(step_result) == 5:\n",
        "            next_state, reward, terminated, truncated, _ = step_result\n",
        "            done = terminated or truncated\n",
        "        else:\n",
        "            next_state, reward, done, _ = step_result\n",
        "\n",
        "        state = next_state\n",
        "        total_reward += reward\n",
        "\n",
        "        time.sleep(0.02)  # Slow down rendering so you can watch\n",
        "\n",
        "    print(f\"Episode {episode} — Total Reward: {total_reward}\")\n",
        "\n",
        "env.close()\n"
      ],
      "metadata": {
        "colab": {
          "base_uri": "https://localhost:8080/"
        },
        "id": "zm9FT71pncJs",
        "outputId": "7f4e980f-78c6-415a-b746-5e9291eab96e"
      },
      "execution_count": 22,
      "outputs": [
        {
          "output_type": "stream",
          "name": "stderr",
          "text": [
            "/usr/local/lib/python3.11/dist-packages/gym/core.py:317: DeprecationWarning: \u001b[33mWARN: Initializing wrapper in old step API which returns one bool instead of two. It is recommended to set `new_step_api=True` to use new step API. This will be the default behaviour in future.\u001b[0m\n",
            "  deprecation(\n",
            "/usr/local/lib/python3.11/dist-packages/gym/wrappers/step_api_compatibility.py:39: DeprecationWarning: \u001b[33mWARN: Initializing environment in old step API which returns one bool instead of two. It is recommended to set `new_step_api=True` to use new step API. This will be the default behaviour in future.\u001b[0m\n",
            "  deprecation(\n"
          ]
        },
        {
          "output_type": "stream",
          "name": "stdout",
          "text": [
            "Episode 1 — Total Reward: 500.0\n",
            "Episode 2 — Total Reward: 500.0\n",
            "Episode 3 — Total Reward: 500.0\n",
            "Episode 4 — Total Reward: 500.0\n",
            "Episode 5 — Total Reward: 500.0\n"
          ]
        }
      ]
    },
    {
      "cell_type": "code",
      "source": [],
      "metadata": {
        "id": "bEAlSaRandoF"
      },
      "execution_count": null,
      "outputs": []
    },
    {
      "cell_type": "code",
      "source": [],
      "metadata": {
        "id": "iv0Qx4PipgJ3"
      },
      "execution_count": null,
      "outputs": []
    },
    {
      "cell_type": "code",
      "source": [],
      "metadata": {
        "id": "R3sDe916pgGT"
      },
      "execution_count": null,
      "outputs": []
    },
    {
      "cell_type": "code",
      "source": [],
      "metadata": {
        "id": "N41xKbljpf-E"
      },
      "execution_count": null,
      "outputs": []
    },
    {
      "cell_type": "code",
      "source": [
        "import gym\n",
        "import torch\n",
        "import numpy as np\n",
        "from torch import nn\n",
        "import os\n",
        "import time\n",
        "from IPython.display import HTML\n",
        "from base64 import b64encode\n",
        "import glob\n",
        "\n",
        "# Set device\n",
        "device = torch.device(\"cuda\" if torch.cuda.is_available() else \"cpu\")\n",
        "\n",
        "# Q-Network Definition\n",
        "class QNetwork(nn.Module):\n",
        "    def __init__(self, input_dim, output_dim):\n",
        "        super(QNetwork, self).__init__()\n",
        "        self.fc = nn.Sequential(\n",
        "            nn.Linear(input_dim, 128),\n",
        "            nn.ReLU(),\n",
        "            nn.Linear(128, 128),\n",
        "            nn.ReLU(),\n",
        "            nn.Linear(128, output_dim)\n",
        "        )\n",
        "\n",
        "    def forward(self, x):\n",
        "        return self.fc(x)\n",
        "\n",
        "# Create video folder\n",
        "video_folder = \"/content/videos\"\n",
        "os.makedirs(video_folder, exist_ok=True)\n",
        "\n",
        "# Create environment with recording\n",
        "env = gym.make(\"CartPole-v1\", render_mode=\"rgb_array\")\n",
        "env = gym.wrappers.RecordVideo(env, video_folder=video_folder, episode_trigger=lambda ep: True)\n",
        "\n",
        "# Get dimensions\n",
        "state_dim = env.observation_space.shape[0]\n",
        "action_dim = env.action_space.n\n",
        "\n",
        "# Load trained model\n",
        "model_path = \"/content/dqn_cartpole.pth\"  # ✅ Make sure this path is correct\n",
        "q_network = QNetwork(state_dim, action_dim).to(device)\n",
        "q_network.load_state_dict(torch.load(model_path, map_location=device))\n",
        "q_network.eval()\n",
        "\n",
        "# Run one test episode\n",
        "reset_out = env.reset()\n",
        "state = reset_out[0] if isinstance(reset_out, tuple) else reset_out\n",
        "\n",
        "done = False\n",
        "total_reward = 0\n",
        "\n",
        "while not done:\n",
        "    state_tensor = torch.FloatTensor(state).unsqueeze(0).to(device)\n",
        "\n",
        "    with torch.no_grad():\n",
        "        q_values = q_network(state_tensor)\n",
        "        action = torch.argmax(q_values, dim=1).item()\n",
        "\n",
        "    result = env.step(action)\n",
        "    if len(result) == 5:\n",
        "        next_state, reward, terminated, truncated, _ = result\n",
        "        done = terminated or truncated\n",
        "    else:\n",
        "        next_state, reward, done, _ = result\n",
        "\n",
        "    state = next_state\n",
        "    total_reward += reward\n",
        "    time.sleep(0.02)  # optional visual delay\n",
        "\n",
        "env.close()\n",
        "print(f\"✅ Episode Finished | Total Reward: {total_reward}\")\n",
        "\n",
        "# Display the recorded video\n",
        "video_list = sorted(glob.glob(f\"{video_folder}/*.mp4\"), key=os.path.getmtime)\n",
        "if video_list:\n",
        "    latest_video = video_list[-1]\n",
        "    mp4 = open(latest_video, 'rb').read()\n",
        "    data_url = \"data:video/mp4;base64,\" + b64encode(mp4).decode()\n",
        "    display(HTML(f\"\"\"<video width=480 controls><source src=\"{data_url}\" type=\"video/mp4\"></video>\"\"\"))\n",
        "else:\n",
        "    print(\"❌ No video found.\")\n"
      ],
      "metadata": {
        "colab": {
          "base_uri": "https://localhost:8080/",
          "height": 483
        },
        "id": "OSLzBiexpfrm",
        "outputId": "716e4df5-9b42-4508-9c28-71a7bf2f09fa"
      },
      "execution_count": 28,
      "outputs": [
        {
          "output_type": "stream",
          "name": "stderr",
          "text": [
            "/usr/local/lib/python3.11/dist-packages/gym/core.py:317: DeprecationWarning: \u001b[33mWARN: Initializing wrapper in old step API which returns one bool instead of two. It is recommended to set `new_step_api=True` to use new step API. This will be the default behaviour in future.\u001b[0m\n",
            "  deprecation(\n",
            "/usr/local/lib/python3.11/dist-packages/gym/wrappers/step_api_compatibility.py:39: DeprecationWarning: \u001b[33mWARN: Initializing environment in old step API which returns one bool instead of two. It is recommended to set `new_step_api=True` to use new step API. This will be the default behaviour in future.\u001b[0m\n",
            "  deprecation(\n",
            "/usr/local/lib/python3.11/dist-packages/gym/wrappers/record_video.py:78: UserWarning: \u001b[33mWARN: Overwriting existing videos at /content/videos folder (try specifying a different `video_folder` for the `RecordVideo` wrapper if this is not desired)\u001b[0m\n",
            "  logger.warn(\n"
          ]
        },
        {
          "output_type": "stream",
          "name": "stdout",
          "text": [
            "✅ Episode Finished | Total Reward: 500.0\n"
          ]
        },
        {
          "output_type": "display_data",
          "data": {
            "text/plain": [
              "<IPython.core.display.HTML object>"
            ],
            "text/html": [
              "<video width=480 controls><source src=\"data:video/mp4;base64,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\" type=\"video/mp4\"></video>"
            ]
          },
          "metadata": {}
        }
      ]
    },
    {
      "cell_type": "code",
      "source": [],
      "metadata": {
        "id": "HwEgVPolpg4J"
      },
      "execution_count": null,
      "outputs": []
    }
  ],
  "metadata": {
    "kernelspec": {
      "display_name": "Python 3",
      "name": "python3"
    },
    "language_info": {
      "name": "python",
      "version": "3.8"
    },
    "colab": {
      "provenance": []
    }
  },
  "nbformat": 4,
  "nbformat_minor": 0
}