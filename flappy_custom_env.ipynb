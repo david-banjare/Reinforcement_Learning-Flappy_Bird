{
 "cells": [
  {
   "cell_type": "code",
   "execution_count": 18,
   "id": "4fbac9fe-3bf8-4a49-b7cc-91818d331019",
   "metadata": {},
   "outputs": [],
   "source": [
    "import gym\n",
    "from gym import spaces\n",
    "import numpy as np\n",
    "import pygame\n",
    "import random"
   ]
  },
  {
   "cell_type": "code",
   "execution_count": 19,
   "id": "182a1395-3b48-4c07-b9b0-7d208c9eaf54",
   "metadata": {},
   "outputs": [],
   "source": [
    "class FlappyBirdEnv(gym.Env):\n",
    "    def __init__(self):\n",
    "        super(FlappyBirdEnv, self).__init__()\n",
    "\n",
    "        pygame.init()\n",
    "        self.screen_width = 288\n",
    "        self.screen_height = 512\n",
    "        self.screen = pygame.display.set_mode((self.screen_width, self.screen_height))\n",
    "        pygame.display.set_caption(\"Flappy Bird - Custom Env\")\n",
    "\n",
    "        self.gravity = 1\n",
    "        self.jump_power = -10\n",
    "        self.bird_y = self.screen_height // 2\n",
    "        self.bird_vel = 0\n",
    "\n",
    "        self.pipe_gap = 150\n",
    "        self.pipe_width = 50\n",
    "        self.pipe_x = self.screen_width\n",
    "        self.pipe_height = random.randint(100, 300)\n",
    "\n",
    "        low = np.array([0, -15, 0, 100], dtype=np.float32)\n",
    "        high = np.array([self.screen_height, 15, self.screen_width, 300], dtype=np.float32)\n",
    "        self.observation_space = spaces.Box(low, high, dtype=np.float32)\n",
    "\n",
    "        self.action_space = spaces.Discrete(2)\n",
    "\n",
    "        self.clock = pygame.time.Clock()\n",
    "\n",
    "    def reset(self):\n",
    "        self.bird_y = self.screen_height // 2\n",
    "        self.bird_vel = 0\n",
    "        self.pipe_x = self.screen_width\n",
    "        self.pipe_height = random.randint(100, 300)\n",
    "        return self._get_obs()\n",
    "\n",
    "    def _get_obs(self):\n",
    "        return np.array([\n",
    "            self.bird_y,\n",
    "            self.bird_vel,\n",
    "            self.pipe_x,\n",
    "            self.pipe_height\n",
    "        ], dtype=np.float32)\n",
    "\n",
    "    def step(self, action):\n",
    "        reward = 1\n",
    "\n",
    "        if action == 1:\n",
    "            self.bird_vel = self.jump_power\n",
    "\n",
    "        self.bird_vel += self.gravity\n",
    "        self.bird_y += self.bird_vel\n",
    "        self.pipe_x -= 5\n",
    "\n",
    "        if self.pipe_x < -self.pipe_width:\n",
    "            self.pipe_x = self.screen_width\n",
    "            self.pipe_height = random.randint(100, 300)\n",
    "\n",
    "        done = False\n",
    "        if self.bird_y > self.screen_height or self.bird_y < 0:\n",
    "            done = True\n",
    "            reward = -100\n",
    "\n",
    "        if (self.pipe_x < 50 < self.pipe_x + self.pipe_width):\n",
    "            if not (self.pipe_height < self.bird_y < self.pipe_height + self.pipe_gap):\n",
    "                done = True\n",
    "                reward = -100\n",
    "\n",
    "        return self._get_obs(), reward, done, {}\n",
    "\n",
    "    def render(self, mode='human'):\n",
    "        self.screen.fill((0, 0, 0))\n",
    "        pygame.draw.circle(self.screen, (255, 255, 0), (50, int(self.bird_y)), 10)\n",
    "        pygame.draw.rect(self.screen, (0, 255, 0), (self.pipe_x, 0, self.pipe_width, self.pipe_height))\n",
    "        pygame.draw.rect(self.screen, (0, 255, 0), (self.pipe_x, self.pipe_height + self.pipe_gap,self.pipe_width, self.screen_height))\n",
    "        pygame.display.flip()\n",
    "        self.clock.tick(30)\n",
    "\n",
    "    def close(self):\n",
    "        pygame.quit()\n"
   ]
  },
  {
   "cell_type": "code",
   "execution_count": 20,
   "id": "49e52ca3-ea46-488b-8d0a-684cdcc587bf",
   "metadata": {},
   "outputs": [],
   "source": [
    "env = FlappyBirdEnv()\n",
    "obs = env.reset()\n",
    "done = False\n",
    "\n",
    "while not done:\n",
    "    action = env.action_space.sample()\n",
    "    obs, reward, done, _ = env.step(action)\n",
    "    env.render()\n",
    "\n",
    "env.close()"
   ]
  },
  {
   "cell_type": "code",
   "execution_count": 21,
   "id": "27e26b0f-79a2-4687-8efc-cedbbe9543d0",
   "metadata": {},
   "outputs": [
    {
     "name": "stderr",
     "output_type": "stream",
     "text": [
      "[NbConvertApp] Converting notebook flappy_custom_env.ipynb to script\n",
      "[NbConvertApp] Writing 3040 bytes to flappy_custom_env.py\n"
     ]
    }
   ],
   "source": [
    "!jupyter nbconvert --to script flappy_custom_env.ipynb"
   ]
  },
  {
   "cell_type": "code",
   "execution_count": null,
   "id": "1a6917f6-0bdc-4aac-9390-c5d075e42806",
   "metadata": {},
   "outputs": [],
   "source": []
  }
 ],
 "metadata": {
  "kernelspec": {
   "display_name": "Python [conda env:base] *",
   "language": "python",
   "name": "conda-base-py"
  },
  "language_info": {
   "codemirror_mode": {
    "name": "ipython",
    "version": 3
   },
   "file_extension": ".py",
   "mimetype": "text/x-python",
   "name": "python",
   "nbconvert_exporter": "python",
   "pygments_lexer": "ipython3",
   "version": "3.12.7"
  }
 },
 "nbformat": 4,
 "nbformat_minor": 5
}
